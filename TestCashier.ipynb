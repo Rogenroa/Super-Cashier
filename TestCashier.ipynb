{
 "cells": [
  {
   "cell_type": "code",
   "execution_count": 12,
   "id": "1d133984-e316-45ee-9af1-ec14a9ed9582",
   "metadata": {},
   "outputs": [],
   "source": [
    "#Import Modul Cashier yang sudah dibuat sebelumnya\n",
    "import cashier as c"
   ]
  },
  {
   "cell_type": "code",
   "execution_count": 13,
   "id": "ee756108-c55f-4185-a562-0e03fdc4c169",
   "metadata": {},
   "outputs": [],
   "source": [
    "#Inisialisasi kelas untuk membuat new transaction sesuai dengan ID Object\n",
    "Transaction = c.Transaction()"
   ]
  },
  {
   "cell_type": "markdown",
   "id": "2838d9a0-f459-48da-a4f4-08f35cb6015b",
   "metadata": {},
   "source": [
    "Test Case #1 : Menambah Item"
   ]
  },
  {
   "cell_type": "code",
   "execution_count": 15,
   "id": "ed2a86d2-27a9-4428-ba55-863453c4f23b",
   "metadata": {},
   "outputs": [
    {
     "name": "stdout",
     "output_type": "stream",
     "text": [
      "Menambahkan ke dalam list pesanan : Sushi dengan jumlah 15 seharga Rp 25000.\n",
      "Menambahkan ke dalam list pesanan : Soy Sauce dengan jumlah 15 seharga Rp 2000.\n",
      "| Nama Item   |   Jumlah Item |   Harga/Item |   Total Harga |\n",
      "|-------------|---------------|--------------|---------------|\n",
      "| Sushi       |            15 |        25000 |        375000 |\n",
      "| Soy Sauce   |            15 |         2000 |         30000 |\n",
      "Pemesanan sudah benar.\n"
     ]
    }
   ],
   "source": [
    "#Penambahan item dengan urutan penulisan NamaItem, JumlahItem, HargaItem\n",
    "Transaction.add_item(\"Sushi\", 15, 25000)\n",
    "Transaction.add_item(\"Soy Sauce\", 15, 2000)\n",
    "Transaction.check_order()"
   ]
  },
  {
   "cell_type": "markdown",
   "id": "7a3ccab2-084e-4ab4-ac06-de8ec7d036ce",
   "metadata": {},
   "source": [
    "Test Case #2 : Menghapus item"
   ]
  },
  {
   "cell_type": "code",
   "execution_count": 16,
   "id": "ac3d41fe-a036-4613-a832-8bbcf4657c39",
   "metadata": {},
   "outputs": [
    {
     "name": "stdout",
     "output_type": "stream",
     "text": [
      "Menghapus pesanan Soy Sauce.\n",
      "\n",
      "| Nama Item   |   Jumlah Item |   Harga/Item |   Total Harga |\n",
      "|-------------|---------------|--------------|---------------|\n",
      "| Sushi       |            15 |        25000 |        375000 |\n"
     ]
    }
   ],
   "source": [
    "#Menghapus item Soy Sauce dari list pembelian dikarenakan salah barang\n",
    "Transaction.delete_item(\"Soy Sauce\")"
   ]
  },
  {
   "cell_type": "markdown",
   "id": "92cba82e-dcce-47c1-afa6-304428f4b4b7",
   "metadata": {},
   "source": [
    "Test Case #3 : Menghapus seluruh pesanan"
   ]
  },
  {
   "cell_type": "code",
   "execution_count": 17,
   "id": "83c72044-f26e-4c51-a4ec-d5c693394443",
   "metadata": {},
   "outputs": [
    {
     "name": "stdout",
     "output_type": "stream",
     "text": [
      "Semua item pada pesanan berhasil dihapus, silahkan melakukan input order kembali.\n"
     ]
    }
   ],
   "source": [
    "#Menghapus seluruh item pada list tanpa terkecuali\n",
    "Transaction.reset_transaction()"
   ]
  },
  {
   "cell_type": "markdown",
   "id": "baeeafaa-07e3-4e92-b967-5c8e347e56ba",
   "metadata": {},
   "source": [
    "Test Case #4 : Menghitung total belanja yang harus dibayarkan dan mencek jumlah diskon sesuai program"
   ]
  },
  {
   "cell_type": "code",
   "execution_count": 18,
   "id": "6656a1fd-e4d0-41be-b6e0-9c84fb7dd264",
   "metadata": {},
   "outputs": [
    {
     "name": "stdout",
     "output_type": "stream",
     "text": [
      "Menambahkan ke dalam list pesanan : Sushi dengan jumlah 15 seharga Rp 25000.\n",
      "Menambahkan ke dalam list pesanan : Ramen dengan jumlah 12 seharga Rp 27000.\n",
      "Menambahkan ke dalam list pesanan : Sashimi dengan jumlah 5 seharga Rp 45000.\n",
      "| Nama Item   |   Jumlah Item |   Harga/Item |   Total Harga |\n",
      "|-------------|---------------|--------------|---------------|\n",
      "| Sushi       |            15 |        25000 |        375000 |\n",
      "| Ramen       |            12 |        27000 |        324000 |\n",
      "| Sashimi     |             5 |        45000 |        225000 |\n",
      "Pemesanan sudah benar.\n"
     ]
    }
   ],
   "source": [
    "#Melakukan perhitungan total belanjaan yang sudah dimasukan sekaligus melakukan cek mengenai program diskon yang sedang berlangsung\n",
    "Transaction = c.Transaction()\n",
    "Transaction.add_item(\"Sushi\", 15, 25000)\n",
    "Transaction.add_item(\"Ramen\", 12, 27000)\n",
    "Transaction.add_item(\"Sashimi\", 5, 45000)\n",
    "Transaction.check_order()"
   ]
  },
  {
   "cell_type": "code",
   "execution_count": 19,
   "id": "eaa6600c-e508-43f2-82a4-0c7f105c14c0",
   "metadata": {},
   "outputs": [
    {
     "name": "stdout",
     "output_type": "stream",
     "text": [
      "| Nama Item   |   Jumlah Item |   Harga/Item |   Total Harga |\n",
      "|-------------|---------------|--------------|---------------|\n",
      "| Sushi       |            15 |        25000 |        375000 |\n",
      "| Ramen       |            12 |        27000 |        324000 |\n",
      "| Sashimi     |             5 |        45000 |        225000 |\n",
      "Pemesanan sudah benar.\n",
      "Selamat anda mendapatkan diskon 10% sebesar Rp 92400. Total belanja Anda adalah Rp 831600 (include diskon).\n"
     ]
    }
   ],
   "source": [
    "Transaction.total_price()"
   ]
  },
  {
   "cell_type": "markdown",
   "id": "13529055-a215-4b65-b620-f40c74a032b2",
   "metadata": {},
   "source": [
    "Test Case #5 : Mengupdate item name, jumlah item, harga item (tambahan)"
   ]
  },
  {
   "cell_type": "code",
   "execution_count": 20,
   "id": "1a37c90b-559b-4458-986f-a62bbd419d01",
   "metadata": {},
   "outputs": [
    {
     "name": "stdout",
     "output_type": "stream",
     "text": [
      "| Nama Item   |   Jumlah Item |   Harga/Item |   Total Harga |\n",
      "|-------------|---------------|--------------|---------------|\n",
      "| Ramen       |            12 |        27000 |        324000 |\n",
      "| Sashimi     |             5 |        45000 |        225000 |\n",
      "| Sushi Hiro  |            15 |        25000 |        375000 |\n",
      "Mengubah nama item Sushi menjadi Sushi Hiro.\n"
     ]
    }
   ],
   "source": [
    "Transaction.update_item_name(\"Sushi\", \"Sushi Hiro\")"
   ]
  },
  {
   "cell_type": "code",
   "execution_count": 21,
   "id": "f0428384-b3dc-4e05-b4ae-4d34783390cc",
   "metadata": {},
   "outputs": [
    {
     "name": "stdout",
     "output_type": "stream",
     "text": [
      "| Nama Item   |   Jumlah Item |   Harga/Item |   Total Harga |\n",
      "|-------------|---------------|--------------|---------------|\n",
      "| Ramen       |            10 |        27000 |        270000 |\n",
      "| Sashimi     |             5 |        45000 |        225000 |\n",
      "| Sushi Hiro  |            15 |        25000 |        375000 |\n",
      "Mengubah jumlah item Ramen menjadi 10.\n"
     ]
    }
   ],
   "source": [
    "Transaction.update_item_qty(\"Ramen\", 10)"
   ]
  },
  {
   "cell_type": "code",
   "execution_count": 22,
   "id": "4eb2ffd2-855c-4639-94f6-57d361bf4211",
   "metadata": {},
   "outputs": [
    {
     "name": "stdout",
     "output_type": "stream",
     "text": [
      "| Nama Item   |   Jumlah Item |   Harga/Item |   Total Harga |\n",
      "|-------------|---------------|--------------|---------------|\n",
      "| Ramen       |            10 |        27000 |        270000 |\n",
      "| Sashimi     |             5 |        40000 |        200000 |\n",
      "| Sushi Hiro  |            15 |        25000 |        375000 |\n",
      "Mengubah harga item Sashimi menjadi 40000.\n"
     ]
    }
   ],
   "source": [
    "Transaction.update_item_price(\"Sashimi\", 40000)"
   ]
  },
  {
   "cell_type": "code",
   "execution_count": 23,
   "id": "88d09e82-3a66-419a-b507-f67d0c316d20",
   "metadata": {},
   "outputs": [
    {
     "name": "stdout",
     "output_type": "stream",
     "text": [
      "| Nama Item   |   Jumlah Item |   Harga/Item |   Total Harga |\n",
      "|-------------|---------------|--------------|---------------|\n",
      "| Ramen       |            10 |        27000 |        270000 |\n",
      "| Sashimi     |             5 |        40000 |        200000 |\n",
      "| Sushi Hiro  |            15 |        25000 |        375000 |\n",
      "Pemesanan sudah benar.\n",
      "Selamat anda mendapatkan diskon 10% sebesar Rp 84500. Total belanja Anda adalah Rp 760500 (include diskon).\n"
     ]
    }
   ],
   "source": [
    "Transaction.total_price()"
   ]
  },
  {
   "cell_type": "code",
   "execution_count": null,
   "id": "1e278992-c84e-4c97-b57a-05285b25507d",
   "metadata": {},
   "outputs": [],
   "source": []
  }
 ],
 "metadata": {
  "kernelspec": {
   "display_name": "Python 3 (ipykernel)",
   "language": "python",
   "name": "python3"
  },
  "language_info": {
   "codemirror_mode": {
    "name": "ipython",
    "version": 3
   },
   "file_extension": ".py",
   "mimetype": "text/x-python",
   "name": "python",
   "nbconvert_exporter": "python",
   "pygments_lexer": "ipython3",
   "version": "3.10.9"
  }
 },
 "nbformat": 4,
 "nbformat_minor": 5
}
